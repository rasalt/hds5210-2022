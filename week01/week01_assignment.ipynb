{
 "cells": [
  {
   "cell_type": "markdown",
   "metadata": {},
   "source": [
    "# Welcome to HDS5210-2022!\n",
    "\n",
    "This first assignment will just help you work through some basic interaction with the Jupyter Notebook and the GitHub account that you've setup.  Please follow the instructions closely."
   ]
  },
  {
   "cell_type": "markdown",
   "metadata": {},
   "source": [
    "## 1. Copy this file\n",
    "\n",
    "You'll notice that this file was distributed to you in a new folder on Jupyter called `from_instructor`. This is where I'll give you files.  This folder in read-only for you, which means you can't accidentally change or delete anything here.  It also means that you'll need to save a copy of this file to your own `hds5210-2022` folder.  Follow these instructions:\n",
    "1. Presumably, you have this file open in Jupyter.  If not, go ahead and open it on https://jupyter.slucor.net.\n",
    "2. In your side bar, open the `hds5210-2022` folder.\n",
    "3. Create a new folder and rename it `week01`.\n",
    "4. Save this file to your `week01` folder with the file name `week01_assignment.ipynb` <-- EXACTLY like that\n",
    "\n",
    "The run the cell below. You should see it print out **You saved the file correctly!** below this cell.\n",
    "\n",
    "If you don't see that, look in the sidebar to see what you might have done wrong.  Click the `home` icon to return home and look under the `hds5210-2022` to find your files."
   ]
  },
  {
   "cell_type": "code",
   "execution_count": 13,
   "metadata": {},
   "outputs": [
    {
     "name": "stdout",
     "output_type": "stream",
     "text": [
      "You saved the file correctly!\n"
     ]
    }
   ],
   "source": [
    "import os\n",
    "\n",
    "home = os.path.expanduser('~')\n",
    "if os.path.exists(home+'/hds5210-2022/week01/week01_assignment.ipynb'):\n",
    "    print('You saved the file correctly!')\n",
    "else:\n",
    "    print('Something is not quite right...')"
   ]
  },
  {
   "cell_type": "markdown",
   "metadata": {},
   "source": [
    "## 2. Share your introduction on Canvas\n",
    "\n",
    "I appreciate everyone taking time introduce themselves during class today.  Please take a few minutes to put that down in Canvas under this discussion as well.  https://canvas.slu.edu/courses/16763/discussion_topics/71061"
   ]
  },
  {
   "cell_type": "markdown",
   "metadata": {},
   "source": [
    "# You're Done!\n",
    "\n",
    "Save this file with Ctrl-S or by clicking the Save icon above.  Then run the cell below to save your work back to GitHub.com.\n",
    "\n",
    "---\n",
    "\n",
    "## Submitting Your Work\n",
    "\n",
    "In order to submit your work, you'll need to use the `git` command line program to **add** your homework file (this file) to your local repository, **commit** your changes to your local repository, and then **push** those changes up to github.com.  From there, I'll be able to **pull** the changes down and do my grading.  I'll provide some feedback, **commit** and **push** my comments back to you.  Next week, I'll show you how to **pull** down my comments."
   ]
  },
  {
   "cell_type": "code",
   "execution_count": 24,
   "metadata": {},
   "outputs": [
    {
     "name": "stderr",
     "output_type": "stream",
     "text": [
      "shell-init: error retrieving current directory: getcwd: cannot access parent directories: No such file or directory\n",
      "pwd: error retrieving current directory: getcwd: cannot access parent directories: No such file or directory\n",
      "fatal: Unable to read current working directory: No such file or directory\n",
      "fatal: Unable to read current working directory: No such file or directory\n",
      "fatal: Unable to read current working directory: No such file or directory\n",
      "ERROR:root:Internal Python error in the inspect module.\n",
      "Below is the traceback from this internal error.\n",
      "\n"
     ]
    },
    {
     "name": "stdout",
     "output_type": "stream",
     "text": [
      "Traceback (most recent call last):\n",
      "  File \"/opt/tljh/user/lib/python3.6/site-packages/IPython/core/interactiveshell.py\", line 3319, in run_code\n",
      "    exec(code_obj, self.user_global_ns, self.user_ns)\n",
      "  File \"<ipython-input-24-7a1fa7c0ab06>\", line 1, in <module>\n",
      "    get_ipython().run_cell_magic('bash', '', 'pwd\\nls\\ngit add week01_assignment.ipynb\\ngit commit -a -m \"Submitting my first assignment\"\\ngit push\\n\\n')\n",
      "  File \"/opt/tljh/user/lib/python3.6/site-packages/IPython/core/interactiveshell.py\", line 2352, in run_cell_magic\n",
      "    result = fn(*args, **kwargs)\n",
      "  File \"/opt/tljh/user/lib/python3.6/site-packages/IPython/core/magics/script.py\", line 142, in named_script_magic\n",
      "    return self.shebang(line, cell)\n",
      "  File \"</opt/tljh/user/lib/python3.6/site-packages/decorator.py:decorator-gen-110>\", line 2, in shebang\n",
      "  File \"/opt/tljh/user/lib/python3.6/site-packages/IPython/core/magic.py\", line 187, in <lambda>\n",
      "    call = lambda f, *a, **k: f(*a, **k)\n",
      "  File \"/opt/tljh/user/lib/python3.6/site-packages/IPython/core/magics/script.py\", line 245, in shebang\n",
      "    raise CalledProcessError(p.returncode, cell, output=out, stderr=err)\n",
      "subprocess.CalledProcessError: Command 'b'pwd\\nls\\ngit add week01_assignment.ipynb\\ngit commit -a -m \"Submitting my first assignment\"\\ngit push\\n\\n'' returned non-zero exit status 128.\n",
      "\n",
      "During handling of the above exception, another exception occurred:\n",
      "\n",
      "Traceback (most recent call last):\n",
      "  File \"/opt/tljh/user/lib/python3.6/site-packages/IPython/core/interactiveshell.py\", line 2034, in showtraceback\n",
      "    stb = value._render_traceback_()\n",
      "AttributeError: 'CalledProcessError' object has no attribute '_render_traceback_'\n",
      "\n",
      "During handling of the above exception, another exception occurred:\n",
      "\n",
      "Traceback (most recent call last):\n",
      "  File \"/opt/tljh/user/lib/python3.6/site-packages/IPython/core/ultratb.py\", line 1151, in get_records\n",
      "    return _fixed_getinnerframes(etb, number_of_lines_of_context, tb_offset)\n",
      "  File \"/opt/tljh/user/lib/python3.6/site-packages/IPython/core/ultratb.py\", line 319, in wrapped\n",
      "    return f(*args, **kwargs)\n",
      "  File \"/opt/tljh/user/lib/python3.6/site-packages/IPython/core/ultratb.py\", line 353, in _fixed_getinnerframes\n",
      "    records = fix_frame_records_filenames(inspect.getinnerframes(etb, context))\n",
      "  File \"/opt/tljh/user/lib/python3.6/inspect.py\", line 1488, in getinnerframes\n",
      "    frameinfo = (tb.tb_frame,) + getframeinfo(tb, context)\n",
      "  File \"/opt/tljh/user/lib/python3.6/inspect.py\", line 1446, in getframeinfo\n",
      "    filename = getsourcefile(frame) or getfile(frame)\n",
      "  File \"/opt/tljh/user/lib/python3.6/inspect.py\", line 696, in getsourcefile\n",
      "    if getattr(getmodule(object, filename), '__loader__', None) is not None:\n",
      "  File \"/opt/tljh/user/lib/python3.6/inspect.py\", line 725, in getmodule\n",
      "    file = getabsfile(object, _filename)\n",
      "  File \"/opt/tljh/user/lib/python3.6/inspect.py\", line 709, in getabsfile\n",
      "    return os.path.normcase(os.path.abspath(_filename))\n",
      "  File \"/opt/tljh/user/lib/python3.6/posixpath.py\", line 376, in abspath\n",
      "    cwd = os.getcwd()\n",
      "FileNotFoundError: [Errno 2] No such file or directory\n"
     ]
    },
    {
     "ename": "CalledProcessError",
     "evalue": "Command 'b'pwd\\nls\\ngit add week01_assignment.ipynb\\ngit commit -a -m \"Submitting my first assignment\"\\ngit push\\n\\n'' returned non-zero exit status 128.",
     "output_type": "error",
     "traceback": [
      "\u001b[0;31m---------------------------------------------------------------------------\u001b[0m"
     ]
    }
   ],
   "source": [
    "%%bash\n",
    "pwd\n",
    "ls\n",
    "git add week01_assignment.ipynb\n",
    "git commit -a -m \"Submitting my first assignment\"\n",
    "git push\n",
    "\n"
   ]
  },
  {
   "cell_type": "code",
   "execution_count": null,
   "metadata": {},
   "outputs": [],
   "source": []
  },
  {
   "cell_type": "code",
   "execution_count": null,
   "metadata": {},
   "outputs": [],
   "source": []
  }
 ],
 "metadata": {
  "kernelspec": {
   "display_name": "Python 3",
   "language": "python",
   "name": "python3"
  },
  "language_info": {
   "codemirror_mode": {
    "name": "ipython",
    "version": 3
   },
   "file_extension": ".py",
   "mimetype": "text/x-python",
   "name": "python",
   "nbconvert_exporter": "python",
   "pygments_lexer": "ipython3",
   "version": "3.6.7"
  }
 },
 "nbformat": 4,
 "nbformat_minor": 4
}
