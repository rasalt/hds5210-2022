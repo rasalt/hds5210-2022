{
 "cells": [
  {
   "cell_type": "markdown",
   "metadata": {},
   "source": [
    "# About this notebook\n",
    "### Approach for data management:\n",
    "The source of all data is documented, however it is downloaded as a local file for ease of use\n",
    "\n"
   ]
  },
  {
   "cell_type": "markdown",
   "metadata": {},
   "source": [
    "## Data Source 1 - National Mental Health Services Survey (N-MHSS)\n",
    "Mental Health Facilities Data\n",
    "\n",
    "https://www.datafiles.samhsa.gov/dataset/national-mental-health-services-survey-2020-n-mhss-2020-ds0001\n",
    "\n",
    "Codebook here: https://www.datafiles.samhsa.gov/sites/default/files/field-uploads-protected/studies/N-MHSS-2020/N-MHSS-2020-datasets/N-MHSS-2020-DS0001/N-MHSS-2020-DS0001-info/N-MHSS-2020-DS0001-info-codebook.pdf\n",
    "\n",
    "Dataset here: https://www.datafiles.samhsa.gov/sites/default/files/field-uploads-protected/studies/N-MHSS-2020/N-MHSS-2020-datasets/N-MHSS-2020-DS0001/N-MHSS-2020-DS0001-bundles-with-study-info/N-MHSS-2020-DS0001-bndl-data-csv_v1.zip\n",
    "        \n",
    "Some information on this source dataset\n",
    "N-MHSS is an annual survey that collects data on the services and characteristics of all known mental health treatment facilities in the 50 states, the District of Columbia, and the U.S. territories and jurisdictions. Every other year (since 2014), the survey also collects data on the number and demographics of people served in these facilities as of a specified survey reference date.\n",
    "\n",
    "N-MHSS is the only source of national and state-level data on the mental health service delivery system reported by both public and private specialty mental health treatment facilities, including:\n",
    "\n",
    "Public and private psychiatric hospitals\n",
    "Nonfederal general hospitals with separate psychiatric units\n",
    "U.S. Department of Veterans Affairs medical centers\n",
    "Residential treatment centers for children and adults\n",
    "Community mental health centers\n",
    "Outpatient, day treatment, or partial hospitalization mental health facilities\n",
    "Multi-setting (nonhospital) mental health facilities\n",
    "N-MHSS complements the information collected through SAMHSA’s National Survey of Substance Abuse Treatment Services (N-SSATS). Treatment facility information from N-MHSS is used to populate the mental health component of SAMHSA’s Behavioral Health Treatment Services Locator."
   ]
  },
  {
   "cell_type": "markdown",
   "metadata": {},
   "source": [
    "## Data Source 2 - National Survey on Drug Use and Health (NSDUH) \n",
    "\n",
    "https://www.datafiles.samhsa.gov/dataset/national-survey-drug-use-and-health-2020-nsduh-2020-ds0001\n",
    "    \n",
    "Codebook here: https://www.datafiles.samhsa.gov/sites/default/files/field-uploads-protected/studies/NSDUH-2020/NSDUH-2020-datasets/NSDUH-2020-DS0001/NSDUH-2020-DS0001-info/NSDUH-2020-DS0001-info-codebook.pdf\n",
    "        \n",
    "Dataset here: https://www.datafiles.samhsa.gov/sites/default/files/field-uploads-protected/studies/NSDUH-2020/NSDUH-2020-datasets/NSDUH-2020-DS0001/NSDUH-2020-DS0001-bundles-with-study-info/NSDUH-2020-DS0001-bndl-data-tsv_v1.zip\n",
    "        \n",
    "Population Data\n",
    "\n",
    "The NSDUH series, formerly the National Household Survey on Drug Abuse, is the leading source of statistical information on the use of illicit drugs, alcohol, and tobacco and mental health issues in the United States. The survey tracks trends in specific substance use and mental illness measures and assesses substance use disorders and treatment for these disorders.\n",
    "\n",
    "The population of the NSDUH series is the general civilian population aged 12 and older. Questions include age at first use, as well as lifetime, annual, and past-month use of the following drugs: alcohol, marijuana, cocaine (including crack), hallucinogens, heroin, inhalants, tobacco, pain relievers, tranquilizers, stimulants, and sedatives. The survey covers substance use treatment history and perceived need for treatment, and it includes questions from the “Diagnostic and Statistical Manual (DSM) of Mental Disorders” (DSM) that allow diagnostic criteria to be applied.\n",
    "\n",
    "Respondents are also asked about personal and family income, health care access and coverage, illegal activities and arrest records, problems resulting from the use of drugs, and perceptions of risks. Demographic data include gender, race, age, ethnicity, educational level, employment status, income level, veteran status, household composition, and population density."
   ]
  },
  {
   "cell_type": "markdown",
   "metadata": {},
   "source": [
    "## Data Source 3 - Mental Health Client-Level Data (MH-CLD) \n",
    "\n",
    "https://www.datafiles.samhsa.gov/dataset/mental-health-client-level-data-2019-mh-cld-2019-ds0001\n",
    "    \n",
    "Codebook here: https://www.datafiles.samhsa.gov/sites/default/files/field-uploads-protected/studies/MH-CLD-2019/MH-CLD-2019-datasets/MH-CLD-2019-DS0001/MH-CLD-2019-DS0001-info/MH-CLD-2019-DS0001-info-codebook.pdf\n",
    "        \n",
    "Dataset here: https://www.datafiles.samhsa.gov/sites/default/files/field-uploads-protected/studies/MH-CLD-2019/MH-CLD-2019-datasets/MH-CLD-2019-DS0001/MH-CLD-2019-DS0001-bundles-with-study-info/MH-CLD-2019-DS0001-bndl-data-csv_v1.zip\n",
    "        \n",
    "Client-Level Mental Health Data\n",
    "\n",
    "MH-CLD and the Mental Health Treatment Episode Data Set (MH-TEDS) provide information on mental health diagnoses and the mental health treatment services, outcomes, and demographic and substance use characteristics of people in mental health treatment facilities. This information comes from facilities that report to individual state administrative data systems.    \n",
    "        "
   ]
  },
  {
   "cell_type": "code",
   "execution_count": 2,
   "metadata": {},
   "outputs": [
    {
     "name": "stdout",
     "output_type": "stream",
     "text": [
      "Requirement already satisfied: pandas in /Library/Frameworks/Python.framework/Versions/3.7/lib/python3.7/site-packages (1.3.5)\n",
      "Requirement already satisfied: numpy>=1.17.3 in /Library/Frameworks/Python.framework/Versions/3.7/lib/python3.7/site-packages (from pandas) (1.21.6)\n",
      "Requirement already satisfied: python-dateutil>=2.7.3 in /Library/Frameworks/Python.framework/Versions/3.7/lib/python3.7/site-packages (from pandas) (2.8.2)\n",
      "Requirement already satisfied: pytz>=2017.3 in /Library/Frameworks/Python.framework/Versions/3.7/lib/python3.7/site-packages (from pandas) (2022.1)\n",
      "Requirement already satisfied: six>=1.5 in /Library/Frameworks/Python.framework/Versions/3.7/lib/python3.7/site-packages (from python-dateutil>=2.7.3->pandas) (1.16.0)\n",
      "Requirement already satisfied: numpy in /Library/Frameworks/Python.framework/Versions/3.7/lib/python3.7/site-packages (1.21.6)\n",
      "Name: pandas\n",
      "Version: 1.3.5\n",
      "Summary: Powerful data structures for data analysis, time series, and statistics\n",
      "Home-page: https://pandas.pydata.org\n",
      "Author: The Pandas Development Team\n",
      "Author-email: pandas-dev@python.org\n",
      "License: BSD-3-Clause\n",
      "Location: /Library/Frameworks/Python.framework/Versions/3.7/lib/python3.7/site-packages\n",
      "Requires: numpy, python-dateutil, pytz\n",
      "Required-by: \n"
     ]
    }
   ],
   "source": [
    "!pip3 install pandas\n",
    "!pip3 install numpy\n",
    "!pip3 show pandas"
   ]
  },
  {
   "cell_type": "markdown",
   "metadata": {},
   "source": [
    "## PART A \n",
    "\n",
    "Goal:\n",
    "In this section Client-Level Mental Health Data for 2 years 2019 and 2014 is used.\n",
    "Using this data, exploratory analysis is done in the following areas\n",
    "* Understanding the distribution of mental health disorders by type and by state\n",
    "* Comparing the number of mental health cases (MHC) and substance abuse cases(SAC)\n",
    "\n",
    "Further analysis is done to \n",
    "* Check if there is a correlation between the two\n",
    "* Compare the numbers of MHC and SAC between the years 2014 and 2019.\n",
    "\n",
    "These years are picked because I have the corresponding data for the Mental health services facilities for the same years to\n",
    "do further analysis in the next part.\n",
    "\n",
    "Approach:\n",
    "Since the 2 files for 2014 and 2019 are quite large and jupyterlab environment is struggling with it, \n",
    "I trim data before merging them so I have smaller data sets to work with. (Expecting jupyterlab to cope better)"
   ]
  },
  {
   "cell_type": "code",
   "execution_count": null,
   "metadata": {},
   "outputs": [],
   "source": [
    "%%bash\n",
    "wget https://www.datafiles.samhsa.gov/sites/default/files/field-uploads-protected/studies/MH-CLD-2019/MH-CLD-2019-datasets/MH-CLD-2019-DS0001/MH-CLD-2019-DS0001-bundles-with-study-info/MH-CLD-2019-DS0001-bndl-data-csv_v1.zip\n",
    "unzip MH-CLD-2019-DS0001-bndl-data-csv_v1.zip\n",
    "wget https://www.datafiles.samhsa.gov/sites/default/files/field-uploads-protected/studies/MH-CLD-2014/MH-CLD-2014-datasets/MH-CLD-2014-DS0001/MH-CLD-2014-DS0001-bundles-with-study-info/MH-CLD-2014-DS0001-bndl-data-csv_1.zip\n",
    "unzip MH-CLD-2014-DS0001-bndl-data-csv_1.zip\n"
   ]
  },
  {
   "cell_type": "code",
   "execution_count": 8,
   "metadata": {},
   "outputs": [
    {
     "name": "stderr",
     "output_type": "stream",
     "text": [
      "import _frozen_importlib # frozen\n",
      "import _imp # builtin\n",
      "import '_thread' # <class '_frozen_importlib.BuiltinImporter'>\n",
      "import '_warnings' # <class '_frozen_importlib.BuiltinImporter'>\n",
      "import '_weakref' # <class '_frozen_importlib.BuiltinImporter'>\n",
      "# installing zipimport hook\n",
      "import 'zipimport' # <class '_frozen_importlib.BuiltinImporter'>\n",
      "# installed zipimport hook\n",
      "import '_frozen_importlib_external' # <class '_frozen_importlib.FrozenImporter'>\n",
      "import '_io' # <class '_frozen_importlib.BuiltinImporter'>\n",
      "import 'marshal' # <class '_frozen_importlib.BuiltinImporter'>\n",
      "import 'posix' # <class '_frozen_importlib.BuiltinImporter'>\n",
      "import _thread # previously loaded ('_thread')\n",
      "import '_thread' # <class '_frozen_importlib.BuiltinImporter'>\n",
      "import _weakref # previously loaded ('_weakref')\n",
      "import '_weakref' # <class '_frozen_importlib.BuiltinImporter'>\n",
      "# /Library/Frameworks/Python.framework/Versions/3.7/lib/python3.7/encodings/__pycache__/__init__.cpython-37.pyc matches /Library/Frameworks/Python.framework/Versions/3.7/lib/python3.7/encodings/__init__.py\n",
      "# code object from '/Library/Frameworks/Python.framework/Versions/3.7/lib/python3.7/encodings/__pycache__/__init__.cpython-37.pyc'\n",
      "# /Library/Frameworks/Python.framework/Versions/3.7/lib/python3.7/__pycache__/codecs.cpython-37.pyc matches /Library/Frameworks/Python.framework/Versions/3.7/lib/python3.7/codecs.py\n",
      "# code object from '/Library/Frameworks/Python.framework/Versions/3.7/lib/python3.7/__pycache__/codecs.cpython-37.pyc'\n",
      "import '_codecs' # <class '_frozen_importlib.BuiltinImporter'>\n",
      "import 'codecs' # <_frozen_importlib_external.SourceFileLoader object at 0x7fb60e0429d0>\n",
      "# /Library/Frameworks/Python.framework/Versions/3.7/lib/python3.7/encodings/__pycache__/aliases.cpython-37.pyc matches /Library/Frameworks/Python.framework/Versions/3.7/lib/python3.7/encodings/aliases.py\n",
      "# code object from '/Library/Frameworks/Python.framework/Versions/3.7/lib/python3.7/encodings/__pycache__/aliases.cpython-37.pyc'\n",
      "import 'encodings.aliases' # <_frozen_importlib_external.SourceFileLoader object at 0x7fb60e063a90>\n",
      "import 'encodings' # <_frozen_importlib_external.SourceFileLoader object at 0x7fb60b8e3e10>\n",
      "# /Library/Frameworks/Python.framework/Versions/3.7/lib/python3.7/encodings/__pycache__/utf_8.cpython-37.pyc matches /Library/Frameworks/Python.framework/Versions/3.7/lib/python3.7/encodings/utf_8.py\n",
      "# code object from '/Library/Frameworks/Python.framework/Versions/3.7/lib/python3.7/encodings/__pycache__/utf_8.cpython-37.pyc'\n",
      "import 'encodings.utf_8' # <_frozen_importlib_external.SourceFileLoader object at 0x7fb60e042990>\n",
      "import '_signal' # <class '_frozen_importlib.BuiltinImporter'>\n",
      "# /Library/Frameworks/Python.framework/Versions/3.7/lib/python3.7/encodings/__pycache__/latin_1.cpython-37.pyc matches /Library/Frameworks/Python.framework/Versions/3.7/lib/python3.7/encodings/latin_1.py\n",
      "# code object from '/Library/Frameworks/Python.framework/Versions/3.7/lib/python3.7/encodings/__pycache__/latin_1.cpython-37.pyc'\n",
      "import 'encodings.latin_1' # <_frozen_importlib_external.SourceFileLoader object at 0x7fb60e058090>\n",
      "# /Library/Frameworks/Python.framework/Versions/3.7/lib/python3.7/__pycache__/io.cpython-37.pyc matches /Library/Frameworks/Python.framework/Versions/3.7/lib/python3.7/io.py\n",
      "# code object from '/Library/Frameworks/Python.framework/Versions/3.7/lib/python3.7/__pycache__/io.cpython-37.pyc'\n",
      "# /Library/Frameworks/Python.framework/Versions/3.7/lib/python3.7/__pycache__/abc.cpython-37.pyc matches /Library/Frameworks/Python.framework/Versions/3.7/lib/python3.7/abc.py\n",
      "# code object from '/Library/Frameworks/Python.framework/Versions/3.7/lib/python3.7/__pycache__/abc.cpython-37.pyc'\n",
      "import '_abc' # <class '_frozen_importlib.BuiltinImporter'>\n",
      "import 'abc' # <_frozen_importlib_external.SourceFileLoader object at 0x7fb60e058a50>\n",
      "import 'io' # <_frozen_importlib_external.SourceFileLoader object at 0x7fb60e058110>\n",
      "# /Library/Frameworks/Python.framework/Versions/3.7/lib/python3.7/__pycache__/_bootlocale.cpython-37.pyc matches /Library/Frameworks/Python.framework/Versions/3.7/lib/python3.7/_bootlocale.py\n",
      "# code object from '/Library/Frameworks/Python.framework/Versions/3.7/lib/python3.7/__pycache__/_bootlocale.cpython-37.pyc'\n",
      "import '_locale' # <class '_frozen_importlib.BuiltinImporter'>\n",
      "import '_bootlocale' # <_frozen_importlib_external.SourceFileLoader object at 0x7fb60e072710>\n",
      "Python 3.7.9 (v3.7.9:13c94747c7, Aug 15 2020, 01:31:08) \n",
      "[Clang 6.0 (clang-600.0.57)] on darwin\n",
      "Type \"help\", \"copyright\", \"credits\" or \"license\" for more information.\n",
      "# /Library/Frameworks/Python.framework/Versions/3.7/lib/python3.7/__pycache__/site.cpython-37.pyc matches /Library/Frameworks/Python.framework/Versions/3.7/lib/python3.7/site.py\n",
      "# code object from '/Library/Frameworks/Python.framework/Versions/3.7/lib/python3.7/__pycache__/site.cpython-37.pyc'\n",
      "# /Library/Frameworks/Python.framework/Versions/3.7/lib/python3.7/__pycache__/os.cpython-37.pyc matches /Library/Frameworks/Python.framework/Versions/3.7/lib/python3.7/os.py\n",
      "# code object from '/Library/Frameworks/Python.framework/Versions/3.7/lib/python3.7/__pycache__/os.cpython-37.pyc'\n",
      "# /Library/Frameworks/Python.framework/Versions/3.7/lib/python3.7/__pycache__/stat.cpython-37.pyc matches /Library/Frameworks/Python.framework/Versions/3.7/lib/python3.7/stat.py\n",
      "# code object from '/Library/Frameworks/Python.framework/Versions/3.7/lib/python3.7/__pycache__/stat.cpython-37.pyc'\n",
      "import '_stat' # <class '_frozen_importlib.BuiltinImporter'>\n",
      "import 'stat' # <_frozen_importlib_external.SourceFileLoader object at 0x7fb60e091b10>\n",
      "# /Library/Frameworks/Python.framework/Versions/3.7/lib/python3.7/__pycache__/_collections_abc.cpython-37.pyc matches /Library/Frameworks/Python.framework/Versions/3.7/lib/python3.7/_collections_abc.py\n",
      "# code object from '/Library/Frameworks/Python.framework/Versions/3.7/lib/python3.7/__pycache__/_collections_abc.cpython-37.pyc'\n",
      "import '_collections_abc' # <_frozen_importlib_external.SourceFileLoader object at 0x7fb60e0955d0>\n",
      "# /Library/Frameworks/Python.framework/Versions/3.7/lib/python3.7/__pycache__/posixpath.cpython-37.pyc matches /Library/Frameworks/Python.framework/Versions/3.7/lib/python3.7/posixpath.py\n",
      "# code object from '/Library/Frameworks/Python.framework/Versions/3.7/lib/python3.7/__pycache__/posixpath.cpython-37.pyc'\n",
      "# /Library/Frameworks/Python.framework/Versions/3.7/lib/python3.7/__pycache__/genericpath.cpython-37.pyc matches /Library/Frameworks/Python.framework/Versions/3.7/lib/python3.7/genericpath.py\n",
      "# code object from '/Library/Frameworks/Python.framework/Versions/3.7/lib/python3.7/__pycache__/genericpath.cpython-37.pyc'\n",
      "import 'genericpath' # <_frozen_importlib_external.SourceFileLoader object at 0x7fb60e0c4410>\n",
      "import 'posixpath' # <_frozen_importlib_external.SourceFileLoader object at 0x7fb60e0a25d0>\n",
      "import 'os' # <_frozen_importlib_external.SourceFileLoader object at 0x7fb60e081ad0>\n",
      "# /Library/Frameworks/Python.framework/Versions/3.7/lib/python3.7/__pycache__/_sitebuiltins.cpython-37.pyc matches /Library/Frameworks/Python.framework/Versions/3.7/lib/python3.7/_sitebuiltins.py\n",
      "# code object from '/Library/Frameworks/Python.framework/Versions/3.7/lib/python3.7/__pycache__/_sitebuiltins.cpython-37.pyc'\n",
      "import '_sitebuiltins' # <_frozen_importlib_external.SourceFileLoader object at 0x7fb60e087110>\n",
      "import 'site' # <_frozen_importlib_external.SourceFileLoader object at 0x7fb60e07b3d0>\n",
      "# clear builtins._\n",
      "# clear sys.path\n",
      "# clear sys.argv\n",
      "# clear sys.ps1\n",
      "# clear sys.ps2\n",
      "# clear sys.last_type\n",
      "# clear sys.last_value\n",
      "# clear sys.last_traceback\n",
      "# clear sys.path_hooks\n",
      "# clear sys.path_importer_cache\n",
      "# clear sys.meta_path\n",
      "# clear sys.__interactivehook__\n",
      "# clear sys.flags\n",
      "# clear sys.float_info\n",
      "# restore sys.stdin\n",
      "# restore sys.stdout\n",
      "# restore sys.stderr\n",
      "# cleanup[2] removing sys\n",
      "# cleanup[2] removing builtins\n",
      "# cleanup[2] removing _frozen_importlib\n",
      "# cleanup[2] removing _imp\n",
      "# cleanup[2] removing _thread\n",
      "# cleanup[2] removing _warnings\n",
      "# cleanup[2] removing _weakref\n",
      "# cleanup[2] removing zipimport\n",
      "# cleanup[2] removing _frozen_importlib_external\n",
      "# cleanup[2] removing _io\n",
      "# cleanup[2] removing marshal\n",
      "# cleanup[2] removing posix\n",
      "# cleanup[2] removing encodings\n",
      "# destroy encodings\n",
      "# cleanup[2] removing codecs\n",
      "# cleanup[2] removing _codecs\n",
      "# cleanup[2] removing encodings.aliases\n",
      "# cleanup[2] removing encodings.utf_8\n",
      "# cleanup[2] removing _signal\n",
      "# cleanup[2] removing __main__\n",
      "# destroy __main__\n",
      "# cleanup[2] removing encodings.latin_1\n",
      "# cleanup[2] removing io\n",
      "# destroy io\n",
      "# cleanup[2] removing abc\n",
      "# cleanup[2] removing _abc\n",
      "# cleanup[2] removing _bootlocale\n",
      "# destroy _bootlocale\n",
      "# cleanup[2] removing _locale\n",
      "# cleanup[2] removing site\n",
      "# destroy site\n",
      "# cleanup[2] removing os\n",
      "# cleanup[2] removing stat\n",
      "# cleanup[2] removing _stat\n",
      "# cleanup[2] removing _collections_abc\n",
      "# destroy _collections_abc\n",
      "# cleanup[2] removing posixpath\n",
      "# cleanup[2] removing genericpath\n",
      "# cleanup[2] removing os.path\n",
      "# cleanup[2] removing _sitebuiltins\n",
      "# destroy zipimport\n",
      "# destroy _signal\n",
      "# destroy _abc\n",
      "# destroy _locale\n",
      "# destroy _sitebuiltins\n",
      "# destroy abc\n",
      "# destroy posixpath\n",
      "# destroy _stat\n",
      "# destroy genericpath\n",
      "# destroy os\n",
      "# destroy stat\n",
      "# cleanup[3] wiping _frozen_importlib\n",
      "# destroy _frozen_importlib_external\n",
      "# cleanup[3] wiping _imp\n",
      "# cleanup[3] wiping _thread\n",
      "# cleanup[3] wiping _warnings\n",
      "# cleanup[3] wiping _weakref\n",
      "# cleanup[3] wiping _io\n",
      "# cleanup[3] wiping marshal\n",
      "# cleanup[3] wiping posix\n",
      "# cleanup[3] wiping codecs\n",
      "# cleanup[3] wiping _codecs\n",
      "# cleanup[3] wiping encodings.aliases\n",
      "# cleanup[3] wiping encodings.utf_8\n",
      "# cleanup[3] wiping encodings.latin_1\n",
      "# cleanup[3] wiping sys\n",
      "# cleanup[3] wiping builtins\n"
     ]
    }
   ],
   "source": [
    "%%bash\n",
    "python3 -v"
   ]
  },
  {
   "cell_type": "code",
   "execution_count": 1,
   "metadata": {},
   "outputs": [
    {
     "ename": "ModuleNotFoundError",
     "evalue": "No module named 'pandas'",
     "output_type": "error",
     "traceback": [
      "\u001b[0;31m---------------------------------------------------------------------------\u001b[0m",
      "\u001b[0;31mModuleNotFoundError\u001b[0m                       Traceback (most recent call last)",
      "Input \u001b[0;32mIn [1]\u001b[0m, in \u001b[0;36m<cell line: 1>\u001b[0;34m()\u001b[0m\n\u001b[0;32m----> 1\u001b[0m \u001b[38;5;28;01mimport\u001b[39;00m \u001b[38;5;21;01mpandas\u001b[39;00m \u001b[38;5;28;01mas\u001b[39;00m \u001b[38;5;21;01mpd\u001b[39;00m\n\u001b[1;32m      3\u001b[0m \u001b[38;5;66;03m## Data Access and Data Load - 2020 nmhss data load\u001b[39;00m\n\u001b[1;32m      4\u001b[0m file1 \u001b[38;5;241m=\u001b[39m \u001b[38;5;124m\"\u001b[39m\u001b[38;5;124mmhcld-puf-2019-csv.csv\u001b[39m\u001b[38;5;124m\"\u001b[39m\n",
      "\u001b[0;31mModuleNotFoundError\u001b[0m: No module named 'pandas'"
     ]
    }
   ],
   "source": [
    "import pandas as pd\n",
    "\n",
    "## Data Access and Data Load - 2020 nmhss data load\n",
    "file1 = \"mhcld-puf-2019-csv.csv\"\n",
    "mh2019 = pd.read_csv(file1)"
   ]
  },
  {
   "cell_type": "code",
   "execution_count": 2,
   "metadata": {},
   "outputs": [
    {
     "data": {
      "text/plain": [
       "(6362044, 40)"
      ]
     },
     "execution_count": 2,
     "metadata": {},
     "output_type": "execute_result"
    }
   ],
   "source": [
    "mh2019.shape"
   ]
  },
  {
   "cell_type": "markdown",
   "metadata": {},
   "source": [
    "### Remove certain rows with unknown information where\n",
    "1. AGE is -9\n",
    "2. GENDER is -9 \n",
    "3. IJSSERVICE is 1 (served in a justince system institution)\n",
    "4. MH1 is -9\n",
    "5. MH2 is -9\n",
    "6. MH3 is -9\n",
    "7. SUB is -9\n",
    "8. SMISED is -9\n",
    "9. STATEFIP is 99\n",
    "10. REGION is 0"
   ]
  },
  {
   "cell_type": "code",
   "execution_count": 3,
   "metadata": {},
   "outputs": [
    {
     "data": {
      "text/plain": [
       "YEAR           int64\n",
       "AGE            int64\n",
       "EDUC           int64\n",
       "ETHNIC         int64\n",
       "RACE           int64\n",
       "GENDER         int64\n",
       "SPHSERVICE     int64\n",
       "CMPSERVICE     int64\n",
       "OPISERVICE     int64\n",
       "RTCSERVICE     int64\n",
       "IJSSERVICE     int64\n",
       "MH1            int64\n",
       "MH2            int64\n",
       "MH3            int64\n",
       "SUB            int64\n",
       "MARSTAT        int64\n",
       "SMISED         int64\n",
       "SAP            int64\n",
       "EMPLOY         int64\n",
       "DETNLF         int64\n",
       "VETERAN        int64\n",
       "LIVARAG        int64\n",
       "NUMMHS         int64\n",
       "TRAUSTREFLG    int64\n",
       "ANXIETYFLG     int64\n",
       "ADHDFLG        int64\n",
       "CONDUCTFLG     int64\n",
       "DELIRDEMFLG    int64\n",
       "BIPOLARFLG     int64\n",
       "DEPRESSFLG     int64\n",
       "ODDFLG         int64\n",
       "PDDFLG         int64\n",
       "PERSONFLG      int64\n",
       "SCHIZOFLG      int64\n",
       "ALCSUBFLG      int64\n",
       "OTHERDISFLG    int64\n",
       "STATEFIP       int64\n",
       "DIVISION       int64\n",
       "REGION         int64\n",
       "CASEID         int64\n",
       "dtype: object"
      ]
     },
     "execution_count": 3,
     "metadata": {},
     "output_type": "execute_result"
    }
   ],
   "source": [
    "mh2019.dtypes"
   ]
  },
  {
   "cell_type": "markdown",
   "metadata": {},
   "source": [
    "### Removing rows that having missing data that I believe is important. \n",
    "By the end of the next cell this data is cleaned"
   ]
  },
  {
   "cell_type": "code",
   "execution_count": 4,
   "metadata": {},
   "outputs": [],
   "source": [
    "mh2019 = mh2019[mh2019['AGE'] != -9]\n",
    "mh2019 = mh2019[mh2019['GENDER'] != -9]\n",
    "mh2019 = mh2019[mh2019['IJSSERVICE'] != 1]\n",
    "mh2019 = mh2019[mh2019['SMISED'] != -9]\n",
    "mh2019 = mh2019[mh2019['STATEFIP'] != -99]\n",
    "mh2019 = mh2019[mh2019['SMISED'] != -9]\n",
    "mh2019 = mh2019[mh2019['REGION'] != 0]"
   ]
  },
  {
   "cell_type": "markdown",
   "metadata": {},
   "source": [
    "### Deriving data from the MH1, MH2, MH3 (as per the code book)\n",
    "If first, second, or third mental health diagnosis is 1 trauma- or stressor-related disorder, then\n",
    "trauma- or stressor-related disorder flag is 1;\n",
    "● if first, second, or third mental health diagnosis is 2 anxiety disorder, then anxiety disorder\n",
    "flag is 1;\n",
    "● if first, second, or third mental health diagnosis is 3 attention deficit/hyperactivity disorder,\n",
    "then attention deficit/hyperactivity disorder flag is 1;\n",
    "● if first, second, or third mental health diagnosis is 4 conduct disorder, then conduct disorder\n",
    "flag is 1;\n",
    "● if first, second, or third mental health diagnosis is 5 delirium/dementia disorder, then\n",
    "delirium/dementia disorder flag is 1;\n",
    "● if first, second, or third mental health diagnosis is 6 bipolar disorder, then bipolar disorder\n",
    "flag is 1;\n",
    "● if first, second, or third mental health diagnosis is 7 depressive disorder, then depressive\n",
    "disorder flag is 1;\n",
    "● if first, second, or third mental health diagnosis is 8 oppositional defiant disorder, then\n",
    "oppositional defiant disorder flag is 1;\n",
    "● if first, second, or third mental health diagnosis is 9 pervasive developmental disorder, then\n",
    "pervasive developmental disorder flag is 1;\n",
    "● if first, second, or third mental health diagnosis is 10 personality disorder, then personality\n",
    "disorder flag is 1;\n",
    "● if first, second, or third mental health diagnosis is 11 schizophrenia or other psychotic\n",
    "disorder, then schizophrenia or other psychotic disorder flag is 1;\n",
    "● if first, second, or third mental health diagnosis is 12 alcohol or substance use disorder, then\n",
    "alcohol or substance use disorder flag is 1;\n",
    "● if first, second, or third mental health diagnosis is 13 other mental disorder, then other mental\n",
    "disorder flag is 1.\n",
    "\n",
    "This section defines a \"disorder\" function and applies it to all rows. The MH1, MH2, MH3 are used to create a \n",
    "verdict on the disorder. \n"
   ]
  },
  {
   "cell_type": "code",
   "execution_count": 5,
   "metadata": {},
   "outputs": [],
   "source": [
    "def disorder(vals):\n",
    "    \"\"\"Series -> float\n",
    "    vals is a Pandas series with 3 values\n",
    "    MH1, MH2, MH3 \n",
    "    The 3 values are used to created the \n",
    "    Condition as per the code book guidelines above\"\"\"\n",
    "    mh1 = vals.MH1\n",
    "    mh2 = vals.MH2\n",
    "    mh3 = vals.MH3\n",
    "    if (mh1 == 13) or (mh2 == 13) or (mh3 == 13):\n",
    "        return \"OTHER\"\n",
    "    if (mh1 == 12) or (mh2 == 12) or (mh3 == 12):\n",
    "        return \"SA\" # Substrance Abuse\n",
    "    if (mh1 == 11) or (mh2 == 11) or (mh3 == 11):\n",
    "        return \"PSYCH\" # Psychotic or Schizophrenia\n",
    "    if (mh1 == 10) or (mh2 == 10) or (mh3 == 10):\n",
    "        return \"PERSONALITY\" # Psychotic or Schizophrenia\n",
    "    if (mh1 == 9) or (mh2 == 9) or (mh3 == 9):\n",
    "        return \"PERVASIVE\" # Pervasive Development  \n",
    "    if (mh1 == 8) or (mh2 == 8) or (mh3 == 8):\n",
    "        return \"OPPOSITIONAL\" # Oppositional Defiant \n",
    "    if (mh1 == 7) or (mh2 == 7) or (mh3 == 7):\n",
    "        return \"DEPRESSIVE\" # Depressive\n",
    "    if (mh1 == 6) or (mh2 == 6) or (mh3 == 6):\n",
    "        return \"BIPOLAR\" # Bipolar\n",
    "    if (mh1 == 5) or (mh2 == 5) or (mh3 == 5):\n",
    "        return \"DEL/DEM\" # Delerium, Dementia\n",
    "    if (mh1 == 4) or (mh2 == 4) or (mh3 == 4):\n",
    "        return \"CONDUCT\" # Conduct\n",
    "    if (mh1 == 3) or (mh2 == 3) or (mh3 == 3):\n",
    "        return \"ADHD\" # ADHD\n",
    "    if (mh1 == 2) or (mh2 == 2) or (mh3 == 2):\n",
    "        return \"ANXIETY\" \n",
    "    if (mh1 == 1) or (mh2 == 1) or (mh3 == 1):\n",
    "        return \"TRAUMA\"\n",
    "    return \"None\"\n",
    "\n",
    "def anydisorder(vals):\n",
    "    \"\"\"Series -> float\n",
    "    vals is a Pandas series with 1 values\n",
    "    Disorder\n",
    "    \"\"\"\n",
    "    disorder = vals.Disorder\n",
    "    if disorder == \"None\":\n",
    "        return 'No'\n",
    "    else:\n",
    "        return 'Yes'"
   ]
  },
  {
   "cell_type": "code",
   "execution_count": 6,
   "metadata": {},
   "outputs": [],
   "source": [
    "mh2019['Disorder'] = mh2019[['MH1', 'MH2', 'MH3']].apply(disorder, axis=1)\n",
    "mh2019['Disorder'].value_counts()\n",
    "mh2019['AnyDisorder'] = mh2019[['Disorder']].apply(anydisorder, axis=1)"
   ]
  },
  {
   "cell_type": "code",
   "execution_count": 7,
   "metadata": {},
   "outputs": [],
   "source": [
    "### Deriving data for SUBSTANCE Abuse Information\n",
    "substancetable = {\n",
    "  1: \"ALCOHOL_IND\",\n",
    "  2: \"ALCOHOL_INTOX\",\n",
    "  3: \"SUB_IND\",\n",
    "  4: \"ALCOHOL_DEP\",\n",
    "  5: \"COCAINE_DEP\",\n",
    "  6: \"CANNABIS_DEP\",\n",
    "  7: \"OPIOID_DEP\",\n",
    "  8: \"OTHER\",\n",
    "  9: \"ALCOHOL_ABUSE\",\n",
    "  10: \"COCAINE_ABUSE\",\n",
    "  11: \"CANNABIS_ABUSE\",\n",
    "  12: \"OPIOID_ABUSE\",\n",
    "  13: \"OTHER_RELATED\",\n",
    "  -9: \"None\"\n",
    "}\n",
    "\n",
    "def substancelookup(vals):\n",
    "    \"\"\"Series -> float\n",
    "    vals is a Pandas series with 1 values\n",
    "    SUB\"\"\"\n",
    "    sub = vals.SUB\n",
    "    return substancetable[sub]\n",
    "\n",
    "def anysubstance(vals):\n",
    "    \"\"\"Series -> float\n",
    "    vals is a Pandas series with 1 values\n",
    "    SUB\"\"\"\n",
    "    sub = vals.SUB\n",
    "    if (sub == -9):\n",
    "        return 'No'\n",
    "    else:\n",
    "        return 'Yes'\n",
    "\n",
    "mh2019['SubstanceAbuse'] = mh2019[['SUB']].apply(substancelookup, axis=1)\n",
    "mh2019['AnySubstance'] = mh2019[['SUB']].apply(anysubstance, axis=1)"
   ]
  },
  {
   "cell_type": "markdown",
   "metadata": {},
   "source": [
    "### Have a more readable form of \"STATEFIP\""
   ]
  },
  {
   "cell_type": "code",
   "execution_count": 8,
   "metadata": {},
   "outputs": [],
   "source": [
    "import states\n",
    "mh2019['State'] = mh2019[['STATEFIP']].apply(states.statelookupbycode, axis=1)"
   ]
  },
  {
   "cell_type": "markdown",
   "metadata": {},
   "source": [
    "### Columns that are not interesting anymore are dropped in this section to have a relevant data frame\n",
    "1. MH1, MH2,MH3  (Given the newly created \"Disorder\" Column)\n",
    "2. MARITALSTATUS "
   ]
  },
  {
   "cell_type": "code",
   "execution_count": 9,
   "metadata": {},
   "outputs": [],
   "source": [
    "columnstodrop = ['MARSTAT', 'MH1', 'MH2', 'MH3']\n",
    "mh2019 = mh2019.drop(['MARSTAT', 'MH1', 'MH2', 'MH3'], axis=1)"
   ]
  },
  {
   "cell_type": "code",
   "execution_count": 10,
   "metadata": {},
   "outputs": [
    {
     "data": {
      "text/plain": [
       "(5892510, 41)"
      ]
     },
     "execution_count": 10,
     "metadata": {},
     "output_type": "execute_result"
    }
   ],
   "source": [
    "mh2019.shape"
   ]
  },
  {
   "cell_type": "markdown",
   "metadata": {},
   "source": [
    "### Lets study the disorder occurance per state in a few  aspects\n",
    "1. AnyDisorder per State\n",
    "2. Type of Disorder in the state with the highest number of disorders\n",
    "3. Any substance per State\n",
    "4. Type of substance abuse in the state with the highest number of substance abuse cases"
   ]
  },
  {
   "cell_type": "code",
   "execution_count": null,
   "metadata": {},
   "outputs": [],
   "source": [
    "summary2019_disorder = mh2019[['YEAR','State', 'AnyDisorder', 'Disorder', 'AnySubstance']]\n",
    "#summary_disorder.groupby(['State', 'AnyDisorder']).agg(Count = ('AnyDisorder', 'count')).reset_index()\n",
    "#summary_disorder\n",
    "summary2019_disorder"
   ]
  },
  {
   "cell_type": "code",
   "execution_count": null,
   "metadata": {},
   "outputs": [],
   "source": [
    "import pandas as pd\n",
    "file2 = \"./data/mhcld2014/mhcld-puf-2014-csv.csv\"\n",
    "mh2014 = pd.read_csv(file2)\n",
    "mh2014.head()"
   ]
  },
  {
   "cell_type": "code",
   "execution_count": null,
   "metadata": {},
   "outputs": [],
   "source": [
    "summary2014_disorder = mh2014[['YEAR','State', 'AnyDisorder', 'Disorder', 'AnySubstance']]\n",
    "summary_disorder.groupby(['State', 'AnyDisorder']).agg(Count = ('AnyDisorder', 'count')).reset_index()"
   ]
  },
  {
   "cell_type": "code",
   "execution_count": null,
   "metadata": {},
   "outputs": [],
   "source": [
    "# import libraries\n",
    "import seaborn as sns\n",
    "import matplotlib.pyplot as plt\n",
    "\n",
    "# set plot style: grey grid in the background:\n",
    "sns.set(style=\"darkgrid\")\n",
    "\n",
    "# Set the figure size\n",
    "plt.figure(figsize=(20, 10))\n",
    "\n",
    "# grouped barplot\n",
    "ax = sns.countplot(data=summary_disorder, x='State', hue='AnyDisorder')\n",
    "#ax.set(ylim=(0, 100))\n",
    "\n",
    "ax.set_xticklabels(ax.get_xticklabels(), rotation = 90)\n"
   ]
  },
  {
   "cell_type": "code",
   "execution_count": null,
   "metadata": {},
   "outputs": [],
   "source": [
    "# import libraries\n",
    "import seaborn as sns\n",
    "import matplotlib.pyplot as plt\n",
    "\n",
    "# set plot style: grey grid in the background:\n",
    "sns.set(style=\"darkgrid\")\n",
    "\n",
    "# Set the figure size\n",
    "plt.figure(figsize=(20, 10))\n",
    "\n",
    "# grouped barplot\n",
    "ax = sns.countplot(data=summary_disorder, x='State', hue='AnySubstance')\n",
    "#ax.set(ylim=(0, 100))\n",
    "\n",
    "ax.set_xticklabels(ax.get_xticklabels(), rotation = 90)\n"
   ]
  },
  {
   "cell_type": "code",
   "execution_count": null,
   "metadata": {},
   "outputs": [],
   "source": [
    "summary_disorder.groupby(['State', 'AnySubstance']).agg(Count = ('AnySubstance', 'count')).reset_index()\n"
   ]
  },
  {
   "cell_type": "code",
   "execution_count": null,
   "metadata": {},
   "outputs": [],
   "source": [
    "### Join this data with number of clinics for that state"
   ]
  },
  {
   "cell_type": "code",
   "execution_count": null,
   "metadata": {},
   "outputs": [],
   "source": [
    "### Join this data with population of the state"
   ]
  },
  {
   "cell_type": "code",
   "execution_count": null,
   "metadata": {},
   "outputs": [],
   "source": []
  }
 ],
 "metadata": {
  "environment": {
   "name": "common-cpu.mnightly-2021-02-02-debian-10-test",
   "type": "gcloud",
   "uri": "gcr.io/deeplearning-platform-release/base-cpu:mnightly-2021-02-02-debian-10-test"
  },
  "kernelspec": {
   "display_name": "Python 3 (ipykernel)",
   "language": "python",
   "name": "python3"
  },
  "language_info": {
   "codemirror_mode": {
    "name": "ipython",
    "version": 3
   },
   "file_extension": ".py",
   "mimetype": "text/x-python",
   "name": "python",
   "nbconvert_exporter": "python",
   "pygments_lexer": "ipython3",
   "version": "3.9.12"
  }
 },
 "nbformat": 4,
 "nbformat_minor": 4
}
